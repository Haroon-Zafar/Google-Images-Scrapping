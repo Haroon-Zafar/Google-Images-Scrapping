{
 "cells": [
  {
   "cell_type": "code",
   "execution_count": 4,
   "metadata": {},
   "outputs": [],
   "source": [
    "# Importing Libraries \n",
    "\n",
    "from selenium import webdriver\n",
    "from selenium.webdriver.common.keys import Keys\n",
    "import requests \n",
    "import io \n",
    "from datetime import datetime as dt \n",
    "from PIL import Image\n",
    "import time \n",
    "import os\n"
   ]
  },
  {
   "cell_type": "code",
   "execution_count": 9,
   "metadata": {},
   "outputs": [
    {
     "name": "stderr",
     "output_type": "stream",
     "text": [
      "y:\\python\\lib\\site-packages\\ipykernel_launcher.py:5: DeprecationWarning: executable_path has been deprecated, please pass in a Service object\n",
      "  \"\"\"\n"
     ]
    }
   ],
   "source": [
    "# Driver for Chrome \n",
    "# PATH OF CHROME DRIVER\n",
    "# Always use forward slash in path\n",
    "path = \"E:/Setups/chromedriver_win32/chromedriver.exe\"\n",
    "webDriver = webdriver.Chrome(executable_path=path)"
   ]
  },
  {
   "cell_type": "code",
   "execution_count": 10,
   "metadata": {},
   "outputs": [],
   "source": [
    "# Get and list all the images from google images\n",
    "# creating a function to get the images\n",
    "\n",
    "def getImagesFromGoogle(webDriver, delay, maxImages, url):\n",
    "    def scrollDown(webDriver):\n",
    "        # Execute script to scroll down the page from start to height. \n",
    "        webdriver.execute_script(\"window.scrollTo(0, document.body.scrollHeight);\")\n",
    "        time.sleep(delay)\n",
    "    # Using the url parameter of the function getImagesFromGoogle\n",
    "    url = url\n",
    "    # set the webDriver to the url.\n",
    "    webDriver.get(url)\n",
    "    \n",
    "    # Create an Empty set i.e Unordered List of imageUrls. \n",
    "    imageUrls = set()\n",
    "    \n",
    "    skips = 0   \n",
    "    \n",
    "    while len(imageUrls) + skips < maxImages: \n",
    "        # Scroll Down the web driver.\n",
    "        scrollDown(webDriver)\n",
    "        # Q4LuWd is the class name of all the images in google images\n",
    "        # Find all the thumbnails in the webDriver\n",
    "        thumbNails = webDriver.find_elements(By.CLASS_NAME, \"Q4LuWd\")\n",
    "        \n",
    "        # we are gonna iterate through all the thumbnails and get the image urls\n",
    "        for img in thumbNails[len(imageUrls) + skips:maxImages]:\n",
    "            try: \n",
    "                img.click()\n",
    "                time.sleep(delay)\n",
    "            except:\n",
    "                continue\n",
    "            # n3VNCb is the class name of the image itself. \n",
    "            images = webDriver.find_elements(By.CLASS_NAME, \"n3VNCb\")\n",
    "            \n",
    "            # loop through all the images and get the image url\n",
    "            for image in images: \n",
    "                if image.get_attribute(\"src\") in imageUrls:    \n",
    "                    maxImages += 1\n",
    "                    skips += 1\n",
    "                    break\n",
    "            # getting src attribute of the image\n",
    "            # src attribute contains the url of the image\n",
    "                if image.get_attribute(\"src\") and \"http\" in image.get_attribute(\"src\"):\n",
    "                    imageUrls.add(image.get_attribute(\"src\"))\n",
    "                \n",
    "    return imageUrls\n",
    "\n",
    "\n"
   ]
  },
  {
   "cell_type": "code",
   "execution_count": null,
   "metadata": {},
   "outputs": [],
   "source": [
    "# Download the images \n",
    "# Making a function to download the images\n",
    "# Verbose means to print the status of the download etc.\n",
    "\n",
    "from urllib import request\n",
    "\n",
    "\n",
    "def downloadImage(downPath, url, fileName, imageType='JPEG', verbose=True):\n",
    "    try: \n",
    "        time = dt.now()\n",
    "        # Hot Code is set to Hours, Minutes, Seconds\n",
    "        currentTime = time.strftime(\"%H:%M:%S\")\n",
    "        \n",
    "        # Getting Image Content\n",
    "        imageContents = requests.get(url).content\n",
    "        \n",
    "        # Get the IO bytes of the image\n",
    "        imgFile = io.BytesIO(imageContents)\n",
    "        \n",
    "        # Store the file in memory and convert to an image file with the PIL library\n",
    "        image = Image.open(imgFile)\n",
    "        # downPath means download Path \n",
    "        filePath = downPath + fileName + \".\" + imageType\n",
    "        \n",
    "        # wb = binary write\n",
    "        with open(filePath, \"wb\") as file:\n",
    "            \n",
    "            # Saving the image to the file path\n",
    "            image.save(file, imageType)\n",
    "            # closing the file \n",
    "            # file.close()\n",
    "        \n",
    "        if verbose == True:\n",
    "            print(f\"The Image: {filePath} was downloaded at {currentTime}\")\n",
    "            \n",
    "    except:\n",
    "    \n",
    "    "
   ]
  }
 ],
 "metadata": {
  "kernelspec": {
   "display_name": "Python 3.7.7 64-bit",
   "language": "python",
   "name": "python3"
  },
  "language_info": {
   "codemirror_mode": {
    "name": "ipython",
    "version": 3
   },
   "file_extension": ".py",
   "mimetype": "text/x-python",
   "name": "python",
   "nbconvert_exporter": "python",
   "pygments_lexer": "ipython3",
   "version": "3.7.7"
  },
  "orig_nbformat": 4,
  "vscode": {
   "interpreter": {
    "hash": "69713e280fccb9aa802931bf1b98f79efcfe938b3ab1e86cc85b2e647522a81d"
   }
  }
 },
 "nbformat": 4,
 "nbformat_minor": 2
}
