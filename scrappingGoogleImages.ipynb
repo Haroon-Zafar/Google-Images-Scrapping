{
 "cells": [
  {
   "cell_type": "code",
   "execution_count": 11,
   "metadata": {},
   "outputs": [],
   "source": [
    "# Importing Libraries \n",
    "\n",
    "from selenium import webdriver\n",
    "from selenium.webdriver.common.by import By\n",
    "import requests \n",
    "import io \n",
    "from datetime import datetime as dt \n",
    "from PIL import Image\n",
    "import time \n",
    "import os\n"
   ]
  },
  {
   "cell_type": "code",
   "execution_count": 12,
   "metadata": {},
   "outputs": [
    {
     "name": "stderr",
     "output_type": "stream",
     "text": [
      "y:\\python\\lib\\site-packages\\ipykernel_launcher.py:5: DeprecationWarning: executable_path has been deprecated, please pass in a Service object\n",
      "  \"\"\"\n"
     ]
    }
   ],
   "source": [
    "# Driver for Chrome \n",
    "# PATH OF CHROME DRIVER\n",
    "# Always use forward slash in path\n",
    "path = \"E:/Setups/chromedriver_win32/chromedriver.exe\"\n",
    "webDriver = webdriver.Chrome(executable_path=path)"
   ]
  },
  {
   "cell_type": "code",
   "execution_count": 13,
   "metadata": {},
   "outputs": [],
   "source": [
    "# Get and list all the images from google images\n",
    "# creating a function to get the images\n",
    "\n",
    "def getImagesFromGoogle(webDriver, delay, maxImages, url):\n",
    "    def scrollDown(webDriver):\n",
    "        # Execute script to scroll down the page from start to height. \n",
    "        a = webDriver.execute_script(\"window.scrollTo(0, document.body.scrollHeight);\")\n",
    "        a\n",
    "        time.sleep(delay)\n",
    "    # Using the url parameter of the function getImagesFromGoogle\n",
    "    url = url\n",
    "    # set the webDriver to the url.\n",
    "    webDriver.get(url)\n",
    "    \n",
    "    # Create an Empty set i.e Unordered List of imageUrls. \n",
    "    imageUrls = set()\n",
    "    \n",
    "    skips = 0   \n",
    "    \n",
    "    while len(imageUrls) + skips < maxImages: \n",
    "        # Scroll Down the web driver.\n",
    "        scrollDown(webDriver)\n",
    "        # Q4LuWd is the class name of all the images in google images\n",
    "        # Find all the thumbnails in the webDriver\n",
    "        thumbNails = webDriver.find_elements(By.CLASS_NAME, \"Q4LuWd\")\n",
    "        \n",
    "        # we are gonna iterate through all the thumbnails and get the image urls\n",
    "        for img in thumbNails[len(imageUrls) + skips:maxImages]:\n",
    "            try: \n",
    "                img.click()\n",
    "                time.sleep(delay)\n",
    "            except:\n",
    "                continue\n",
    "            # n3VNCb is the class name of the image itself. \n",
    "            images = webDriver.find_elements(By.CLASS_NAME, \"n3VNCb\")\n",
    "            \n",
    "            # loop through all the images and get the image url\n",
    "            for image in images: \n",
    "                if image.get_attribute(\"src\") in imageUrls:    \n",
    "                    maxImages += 1\n",
    "                    skips += 1\n",
    "                    break\n",
    "            # getting src attribute of the image\n",
    "            # src attribute contains the url of the image\n",
    "                if image.get_attribute(\"src\") and \"http\" in image.get_attribute(\"src\"):\n",
    "                    imageUrls.add(image.get_attribute(\"src\"))\n",
    "                \n",
    "    return imageUrls\n",
    "\n",
    "\n"
   ]
  },
  {
   "cell_type": "code",
   "execution_count": 14,
   "metadata": {},
   "outputs": [],
   "source": [
    "# Download the images \n",
    "# Making a function to download the images\n",
    "# Verbose means to print the status of the download etc.\n",
    "\n",
    "from urllib import request\n",
    "\n",
    "\n",
    "def downloadImage(downPath, url, fileName, imageType='JPEG', verbose=True):\n",
    "    try: \n",
    "        time = dt.now()\n",
    "        # Hot Code is set to Hours, Minutes, Seconds\n",
    "        currentTime = time.strftime(\"%H:%M:%S\")\n",
    "        \n",
    "        # Getting Image Content\n",
    "        imageContents = requests.get(url).content\n",
    "        \n",
    "        # Get the IO bytes of the image\n",
    "        imgFile = io.BytesIO(imageContents)\n",
    "        \n",
    "        # Store the file in memory and convert to an image file with the PIL library\n",
    "        image = Image.open(imgFile)\n",
    "        # downPath means download Path \n",
    "        filePath = downPath + fileName + \".\" + imageType\n",
    "        \n",
    "        # wb = binary write\n",
    "        with open(filePath, \"wb\") as file:\n",
    "            \n",
    "            # Saving the image to the file path\n",
    "            image.save(file, imageType)\n",
    "            # closing the file \n",
    "            # file.close()\n",
    "        \n",
    "        if verbose == True:\n",
    "            print(f\"The Image: {filePath} was downloaded at {currentTime}\")\n",
    "            \n",
    "            \n",
    "    except Exception as e:\n",
    "        print(f\"Unable to download iamge from Google using driver due to:\\n: {str(e)}\")\n",
    "            \n",
    "    "
   ]
  },
  {
   "cell_type": "code",
   "execution_count": 15,
   "metadata": {},
   "outputs": [
    {
     "name": "stdout",
     "output_type": "stream",
     "text": [
      "Creating Directory for Brennan Johnson\n"
     ]
    },
    {
     "ename": "InvalidArgumentException",
     "evalue": "Message: invalid argument: 'url' must be a string\n  (Session info: chrome=107.0.5304.88)\nStacktrace:\nBacktrace:\n\tOrdinal0 [0x01111ED3+2236115]\n\tOrdinal0 [0x010A92F1+1807089]\n\tOrdinal0 [0x00FB66FD+812797]\n\tOrdinal0 [0x01016196+1204630]\n\tOrdinal0 [0x01001A8C+1120908]\n\tOrdinal0 [0x010159E2+1202658]\n\tOrdinal0 [0x010018A6+1120422]\n\tOrdinal0 [0x00FDA73D+960317]\n\tOrdinal0 [0x00FDB71F+964383]\n\tGetHandleVerifier [0x013BE7E2+2743074]\n\tGetHandleVerifier [0x013B08D4+2685972]\n\tGetHandleVerifier [0x011A2BAA+532202]\n\tGetHandleVerifier [0x011A1990+527568]\n\tOrdinal0 [0x010B080C+1837068]\n\tOrdinal0 [0x010B4CD8+1854680]\n\tOrdinal0 [0x010B4DC5+1854917]\n\tOrdinal0 [0x010BED64+1895780]\n\tBaseThreadInitThunk [0x76F1FA29+25]\n\tRtlGetAppContainerNamedObjectPath [0x77857BBE+286]\n\tRtlGetAppContainerNamedObjectPath [0x77857B8E+238]\n",
     "output_type": "error",
     "traceback": [
      "\u001b[1;31m---------------------------------------------------------------------------\u001b[0m",
      "\u001b[1;31mInvalidArgumentException\u001b[0m                  Traceback (most recent call last)",
      "\u001b[1;32m~\\AppData\\Local\\Temp\\ipykernel_16380\\3676562681.py\u001b[0m in \u001b[0;36m<module>\u001b[1;34m\u001b[0m\n\u001b[0;32m     23\u001b[0m     \u001b[0mtotalNumberOfExamples\u001b[0m \u001b[1;33m=\u001b[0m \u001b[1;36m5\u001b[0m\u001b[1;33m\u001b[0m\u001b[1;33m\u001b[0m\u001b[0m\n\u001b[0;32m     24\u001b[0m     \u001b[1;32mfor\u001b[0m \u001b[0murlCurrent\u001b[0m\u001b[1;33m,\u001b[0m \u001b[0mlabel\u001b[0m \u001b[1;32min\u001b[0m \u001b[0mzip\u001b[0m\u001b[1;33m(\u001b[0m\u001b[0mgoogleUrls\u001b[0m\u001b[1;33m,\u001b[0m \u001b[0mlabels\u001b[0m\u001b[1;33m)\u001b[0m\u001b[1;33m:\u001b[0m\u001b[1;33m\u001b[0m\u001b[1;33m\u001b[0m\u001b[0m\n\u001b[1;32m---> 25\u001b[1;33m         \u001b[0murls\u001b[0m \u001b[1;33m=\u001b[0m \u001b[0mgetImagesFromGoogle\u001b[0m\u001b[1;33m(\u001b[0m\u001b[0mwebDriver\u001b[0m\u001b[1;33m,\u001b[0m \u001b[1;36m0.2\u001b[0m\u001b[1;33m,\u001b[0m \u001b[1;36m100\u001b[0m\u001b[1;33m,\u001b[0m \u001b[0mtotalNumberOfExamples\u001b[0m\u001b[1;33m)\u001b[0m\u001b[1;33m\u001b[0m\u001b[1;33m\u001b[0m\u001b[0m\n\u001b[0m\u001b[0;32m     26\u001b[0m \u001b[1;33m\u001b[0m\u001b[0m\n\u001b[0;32m     27\u001b[0m         \u001b[1;31m# enumerate() is a function that adds an iteratble counter, when you are looping through an iterable.\u001b[0m\u001b[1;33m\u001b[0m\u001b[1;33m\u001b[0m\u001b[1;33m\u001b[0m\u001b[0m\n",
      "\u001b[1;32m~\\AppData\\Local\\Temp\\ipykernel_16380\\495550958.py\u001b[0m in \u001b[0;36mgetImagesFromGoogle\u001b[1;34m(webDriver, delay, maxImages, url)\u001b[0m\n\u001b[0;32m     11\u001b[0m     \u001b[0murl\u001b[0m \u001b[1;33m=\u001b[0m \u001b[0murl\u001b[0m\u001b[1;33m\u001b[0m\u001b[1;33m\u001b[0m\u001b[0m\n\u001b[0;32m     12\u001b[0m     \u001b[1;31m# set the webDriver to the url.\u001b[0m\u001b[1;33m\u001b[0m\u001b[1;33m\u001b[0m\u001b[1;33m\u001b[0m\u001b[0m\n\u001b[1;32m---> 13\u001b[1;33m     \u001b[0mwebDriver\u001b[0m\u001b[1;33m.\u001b[0m\u001b[0mget\u001b[0m\u001b[1;33m(\u001b[0m\u001b[0murl\u001b[0m\u001b[1;33m)\u001b[0m\u001b[1;33m\u001b[0m\u001b[1;33m\u001b[0m\u001b[0m\n\u001b[0m\u001b[0;32m     14\u001b[0m \u001b[1;33m\u001b[0m\u001b[0m\n\u001b[0;32m     15\u001b[0m     \u001b[1;31m# Create an Empty set i.e Unordered List of imageUrls.\u001b[0m\u001b[1;33m\u001b[0m\u001b[1;33m\u001b[0m\u001b[1;33m\u001b[0m\u001b[0m\n",
      "\u001b[1;32my:\\python\\lib\\site-packages\\selenium\\webdriver\\remote\\webdriver.py\u001b[0m in \u001b[0;36mget\u001b[1;34m(self, url)\u001b[0m\n\u001b[0;32m    438\u001b[0m         \u001b[0mLoads\u001b[0m \u001b[0ma\u001b[0m \u001b[0mweb\u001b[0m \u001b[0mpage\u001b[0m \u001b[1;32min\u001b[0m \u001b[0mthe\u001b[0m \u001b[0mcurrent\u001b[0m \u001b[0mbrowser\u001b[0m \u001b[0msession\u001b[0m\u001b[1;33m.\u001b[0m\u001b[1;33m\u001b[0m\u001b[1;33m\u001b[0m\u001b[0m\n\u001b[0;32m    439\u001b[0m         \"\"\"\n\u001b[1;32m--> 440\u001b[1;33m         \u001b[0mself\u001b[0m\u001b[1;33m.\u001b[0m\u001b[0mexecute\u001b[0m\u001b[1;33m(\u001b[0m\u001b[0mCommand\u001b[0m\u001b[1;33m.\u001b[0m\u001b[0mGET\u001b[0m\u001b[1;33m,\u001b[0m \u001b[1;33m{\u001b[0m\u001b[1;34m'url'\u001b[0m\u001b[1;33m:\u001b[0m \u001b[0murl\u001b[0m\u001b[1;33m}\u001b[0m\u001b[1;33m)\u001b[0m\u001b[1;33m\u001b[0m\u001b[1;33m\u001b[0m\u001b[0m\n\u001b[0m\u001b[0;32m    441\u001b[0m \u001b[1;33m\u001b[0m\u001b[0m\n\u001b[0;32m    442\u001b[0m     \u001b[1;33m@\u001b[0m\u001b[0mproperty\u001b[0m\u001b[1;33m\u001b[0m\u001b[1;33m\u001b[0m\u001b[0m\n",
      "\u001b[1;32my:\\python\\lib\\site-packages\\selenium\\webdriver\\remote\\webdriver.py\u001b[0m in \u001b[0;36mexecute\u001b[1;34m(self, driver_command, params)\u001b[0m\n\u001b[0;32m    426\u001b[0m         \u001b[0mresponse\u001b[0m \u001b[1;33m=\u001b[0m \u001b[0mself\u001b[0m\u001b[1;33m.\u001b[0m\u001b[0mcommand_executor\u001b[0m\u001b[1;33m.\u001b[0m\u001b[0mexecute\u001b[0m\u001b[1;33m(\u001b[0m\u001b[0mdriver_command\u001b[0m\u001b[1;33m,\u001b[0m \u001b[0mparams\u001b[0m\u001b[1;33m)\u001b[0m\u001b[1;33m\u001b[0m\u001b[1;33m\u001b[0m\u001b[0m\n\u001b[0;32m    427\u001b[0m         \u001b[1;32mif\u001b[0m \u001b[0mresponse\u001b[0m\u001b[1;33m:\u001b[0m\u001b[1;33m\u001b[0m\u001b[1;33m\u001b[0m\u001b[0m\n\u001b[1;32m--> 428\u001b[1;33m             \u001b[0mself\u001b[0m\u001b[1;33m.\u001b[0m\u001b[0merror_handler\u001b[0m\u001b[1;33m.\u001b[0m\u001b[0mcheck_response\u001b[0m\u001b[1;33m(\u001b[0m\u001b[0mresponse\u001b[0m\u001b[1;33m)\u001b[0m\u001b[1;33m\u001b[0m\u001b[1;33m\u001b[0m\u001b[0m\n\u001b[0m\u001b[0;32m    429\u001b[0m             response['value'] = self._unwrap_value(\n\u001b[0;32m    430\u001b[0m                 response.get('value', None))\n",
      "\u001b[1;32my:\\python\\lib\\site-packages\\selenium\\webdriver\\remote\\errorhandler.py\u001b[0m in \u001b[0;36mcheck_response\u001b[1;34m(self, response)\u001b[0m\n\u001b[0;32m    241\u001b[0m                 \u001b[0malert_text\u001b[0m \u001b[1;33m=\u001b[0m \u001b[0mvalue\u001b[0m\u001b[1;33m[\u001b[0m\u001b[1;34m'alert'\u001b[0m\u001b[1;33m]\u001b[0m\u001b[1;33m.\u001b[0m\u001b[0mget\u001b[0m\u001b[1;33m(\u001b[0m\u001b[1;34m'text'\u001b[0m\u001b[1;33m)\u001b[0m\u001b[1;33m\u001b[0m\u001b[1;33m\u001b[0m\u001b[0m\n\u001b[0;32m    242\u001b[0m             \u001b[1;32mraise\u001b[0m \u001b[0mexception_class\u001b[0m\u001b[1;33m(\u001b[0m\u001b[0mmessage\u001b[0m\u001b[1;33m,\u001b[0m \u001b[0mscreen\u001b[0m\u001b[1;33m,\u001b[0m \u001b[0mstacktrace\u001b[0m\u001b[1;33m,\u001b[0m \u001b[0malert_text\u001b[0m\u001b[1;33m)\u001b[0m  \u001b[1;31m# type: ignore[call-arg]  # mypy is not smart enough here\u001b[0m\u001b[1;33m\u001b[0m\u001b[1;33m\u001b[0m\u001b[0m\n\u001b[1;32m--> 243\u001b[1;33m         \u001b[1;32mraise\u001b[0m \u001b[0mexception_class\u001b[0m\u001b[1;33m(\u001b[0m\u001b[0mmessage\u001b[0m\u001b[1;33m,\u001b[0m \u001b[0mscreen\u001b[0m\u001b[1;33m,\u001b[0m \u001b[0mstacktrace\u001b[0m\u001b[1;33m)\u001b[0m\u001b[1;33m\u001b[0m\u001b[1;33m\u001b[0m\u001b[0m\n\u001b[0m",
      "\u001b[1;31mInvalidArgumentException\u001b[0m: Message: invalid argument: 'url' must be a string\n  (Session info: chrome=107.0.5304.88)\nStacktrace:\nBacktrace:\n\tOrdinal0 [0x01111ED3+2236115]\n\tOrdinal0 [0x010A92F1+1807089]\n\tOrdinal0 [0x00FB66FD+812797]\n\tOrdinal0 [0x01016196+1204630]\n\tOrdinal0 [0x01001A8C+1120908]\n\tOrdinal0 [0x010159E2+1202658]\n\tOrdinal0 [0x010018A6+1120422]\n\tOrdinal0 [0x00FDA73D+960317]\n\tOrdinal0 [0x00FDB71F+964383]\n\tGetHandleVerifier [0x013BE7E2+2743074]\n\tGetHandleVerifier [0x013B08D4+2685972]\n\tGetHandleVerifier [0x011A2BAA+532202]\n\tGetHandleVerifier [0x011A1990+527568]\n\tOrdinal0 [0x010B080C+1837068]\n\tOrdinal0 [0x010B4CD8+1854680]\n\tOrdinal0 [0x010B4DC5+1854917]\n\tOrdinal0 [0x010BED64+1895780]\n\tBaseThreadInitThunk [0x76F1FA29+25]\n\tRtlGetAppContainerNamedObjectPath [0x77857BBE+286]\n\tRtlGetAppContainerNamedObjectPath [0x77857B8E+238]\n"
     ]
    }
   ],
   "source": [
    "if __name__ == '__main__':\n",
    "    # Google Photos URL\n",
    "    googleUrls = [\"https://www.google.com/search?q=brennan+johnson&sxsrf=ALiCzsY73plVslbhSfDAwz9paZhh_mFpBA:1666982493668&source=lnms&tbm=isch&sa=X&ved=2ahUKEwiTyIbbyYP7AhWOQ_EDHRBNApcQ_AUoAnoECAEQBA&biw=1242&bih=568&dpr=1.1\"]\n",
    "    \n",
    "    # Label for my player \n",
    "    labels = [\"Brennan Johnson\"]\n",
    "    \n",
    "    # Check the length of Labels match our Google Urls.\n",
    "    if len(googleUrls) != len(labels):\n",
    "        raise ValueError(\"The number of labels does not match the number of google urls\")\n",
    "\n",
    "    playerPath = \"images/nottinghamForest/\"\n",
    "        \n",
    "    #  Make a directory if it does not exist\n",
    "    for label in labels: \n",
    "        if not os.path.exists(playerPath + label):\n",
    "            print(f\"Creating Directory for {str(label)}\")\n",
    "            os.makedirs(playerPath + label)\n",
    "            \n",
    "            \n",
    "    # Loop through the google urls and labels list and getting images.\n",
    "    # zip is an iterator that combines multiple iterables into one sequence of tuples.\n",
    "    for urlCurrent, label in zip(googleUrls, labels):\n",
    "        urls = getImagesFromGoogle(webDriver, 0.2, 100, urlCurrent)\n",
    "        \n",
    "        # enumerate() is a function that adds an iteratble counter, when you are looping through an iterable.\n",
    "        for idx, url in enumerate(urls):\n",
    "            downloadImage(downPath=f\"images/nottinghamForest/{label}/\", url=url, fileName=str(idx+1) + \".jpg\", verbose=True )\n",
    "    \n",
    "    # Kill off the webDriver\n",
    "    webDriver.quit()\n",
    "    \n",
    "            \n",
    "            \n",
    "            \n",
    "            \n",
    "            \n",
    "            \n",
    "            \n",
    "            "
   ]
  },
  {
   "cell_type": "code",
   "execution_count": null,
   "metadata": {},
   "outputs": [],
   "source": []
  }
 ],
 "metadata": {
  "kernelspec": {
   "display_name": "Python 3.7.7 64-bit",
   "language": "python",
   "name": "python3"
  },
  "language_info": {
   "codemirror_mode": {
    "name": "ipython",
    "version": 3
   },
   "file_extension": ".py",
   "mimetype": "text/x-python",
   "name": "python",
   "nbconvert_exporter": "python",
   "pygments_lexer": "ipython3",
   "version": "3.7.7"
  },
  "orig_nbformat": 4,
  "vscode": {
   "interpreter": {
    "hash": "69713e280fccb9aa802931bf1b98f79efcfe938b3ab1e86cc85b2e647522a81d"
   }
  }
 },
 "nbformat": 4,
 "nbformat_minor": 2
}
